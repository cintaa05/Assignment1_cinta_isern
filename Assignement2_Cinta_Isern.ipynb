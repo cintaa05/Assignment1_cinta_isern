{
 "cells": [
  {
   "cell_type": "code",
   "execution_count": 61,
   "id": "ff755e60-a7b7-4785-8239-dd826e7784cb",
   "metadata": {},
   "outputs": [],
   "source": [
    "import matplotlib.pyplot as plt\n",
    "import pandas as pd\n",
    "import numpy as np\n",
    "import matplotlib as plt\n",
    "import matplotlib.pyplot as plt\n",
    "import math"
   ]
  },
  {
   "cell_type": "code",
   "execution_count": 63,
   "id": "4973d50f-9a7d-4131-bc45-765959dd1e49",
   "metadata": {},
   "outputs": [
    {
     "data": {
      "text/html": [
       "<div>\n",
       "<style scoped>\n",
       "    .dataframe tbody tr th:only-of-type {\n",
       "        vertical-align: middle;\n",
       "    }\n",
       "\n",
       "    .dataframe tbody tr th {\n",
       "        vertical-align: top;\n",
       "    }\n",
       "\n",
       "    .dataframe thead th {\n",
       "        text-align: right;\n",
       "    }\n",
       "</style>\n",
       "<table border=\"1\" class=\"dataframe\">\n",
       "  <thead>\n",
       "    <tr style=\"text-align: right;\">\n",
       "      <th></th>\n",
       "      <th>8.903628615644770150e+00</th>\n",
       "      <th>9.946774341125676600e+00</th>\n",
       "      <th>1.445839234341517709e+01</th>\n",
       "      <th>9.664572458033614311e+00</th>\n",
       "      <th>1.441226967850837859e+01</th>\n",
       "      <th>9.942011400948549849e+00</th>\n",
       "      <th>7.190086978986831134e+00</th>\n",
       "      <th>3.022935336064440648e+00</th>\n",
       "      <th>2.515429673643197361e+00</th>\n",
       "      <th>1.500518618061332177e+01</th>\n",
       "      <th>...</th>\n",
       "      <th>3.502196458308908245e+00</th>\n",
       "      <th>8.535172062019682926e+00</th>\n",
       "      <th>6.294537239926594197e+00</th>\n",
       "      <th>4.182269680089028441e+00</th>\n",
       "      <th>1.163467892764390044e+01</th>\n",
       "      <th>5.155506678014479149e+00</th>\n",
       "      <th>9.662742040752039685e+00</th>\n",
       "      <th>1.275189072343256136e+01</th>\n",
       "      <th>1.030799123448670507e+01</th>\n",
       "      <th>6.634982855672938662e+00</th>\n",
       "    </tr>\n",
       "  </thead>\n",
       "  <tbody>\n",
       "    <tr>\n",
       "      <th>0</th>\n",
       "      <td>1.0</td>\n",
       "      <td>1.0</td>\n",
       "      <td>1.0</td>\n",
       "      <td>1.0</td>\n",
       "      <td>1.0</td>\n",
       "      <td>1.0</td>\n",
       "      <td>0.0</td>\n",
       "      <td>0.0</td>\n",
       "      <td>0.0</td>\n",
       "      <td>1.0</td>\n",
       "      <td>...</td>\n",
       "      <td>0.0</td>\n",
       "      <td>0.0</td>\n",
       "      <td>0.0</td>\n",
       "      <td>0.0</td>\n",
       "      <td>1.0</td>\n",
       "      <td>0.0</td>\n",
       "      <td>1.0</td>\n",
       "      <td>1.0</td>\n",
       "      <td>1.0</td>\n",
       "      <td>1.0</td>\n",
       "    </tr>\n",
       "  </tbody>\n",
       "</table>\n",
       "<p>1 rows × 3600 columns</p>\n",
       "</div>"
      ],
      "text/plain": [
       "   8.903628615644770150e+00  9.946774341125676600e+00  \\\n",
       "0                       1.0                       1.0   \n",
       "\n",
       "   1.445839234341517709e+01  9.664572458033614311e+00  \\\n",
       "0                       1.0                       1.0   \n",
       "\n",
       "   1.441226967850837859e+01  9.942011400948549849e+00  \\\n",
       "0                       1.0                       1.0   \n",
       "\n",
       "   7.190086978986831134e+00  3.022935336064440648e+00  \\\n",
       "0                       0.0                       0.0   \n",
       "\n",
       "   2.515429673643197361e+00  1.500518618061332177e+01  ...  \\\n",
       "0                       0.0                       1.0  ...   \n",
       "\n",
       "   3.502196458308908245e+00  8.535172062019682926e+00  \\\n",
       "0                       0.0                       0.0   \n",
       "\n",
       "   6.294537239926594197e+00  4.182269680089028441e+00  \\\n",
       "0                       0.0                       0.0   \n",
       "\n",
       "   1.163467892764390044e+01  5.155506678014479149e+00  \\\n",
       "0                       1.0                       0.0   \n",
       "\n",
       "   9.662742040752039685e+00  1.275189072343256136e+01  \\\n",
       "0                       1.0                       1.0   \n",
       "\n",
       "   1.030799123448670507e+01  6.634982855672938662e+00  \n",
       "0                       1.0                       1.0  \n",
       "\n",
       "[1 rows x 3600 columns]"
      ]
     },
     "execution_count": 63,
     "metadata": {},
     "output_type": "execute_result"
    }
   ],
   "source": [
    "#2a importing and reading the file \"data_problem2\"\n",
    "df = pd.read_csv('data_problem2.csv')\n",
    "df"
   ]
  },
  {
   "cell_type": "code",
   "execution_count": 65,
   "id": "581c112a-66ce-48bf-984c-31133e206580",
   "metadata": {},
   "outputs": [
    {
     "name": "stdout",
     "output_type": "stream",
     "text": [
      "2000\n",
      "1600\n"
     ]
    }
   ],
   "source": [
    "#We see that the features are in the first column, so we save this features in another variable and the first column too\n",
    "features= df.columns.astype(float).tolist()\n",
    "classes=df.iloc[0].tolist()\n",
    "\n",
    "#We separate the features depending on wich class they belong to\n",
    "features_class_1 = [f for f, c in zip(features, classes) if c == 1.0]\n",
    "features_class_0 = [f for f, c in zip(features, classes) if c == 0.0]\n",
    "\n",
    "#We want to know how many samples are from each class\n",
    "print(len(features_class_1))\n",
    "print(len(features_class_0))"
   ]
  },
  {
   "cell_type": "code",
   "execution_count": 66,
   "id": "051e4959-d6b8-42da-abe4-332f2f889d7b",
   "metadata": {},
   "outputs": [
    {
     "data": {
      "image/png": "[encoded data removed]",
      "text/plain": [
       "<Figure size 1000x600 with 1 Axes>"
      ]
     },
     "metadata": {},
     "output_type": "display_data"
    }
   ],
   "source": [
    "# Let's create the historgam\n",
    "plt.figure(figsize=(10,6))\n",
    "plt.hist([features_class_1, features_class_0], bins=50, stacked=True, color=['blue', 'red'], label=['Class 1', 'Class 0'])\n",
    "plt.xlabel('Feature')\n",
    "plt.ylabel('Frequency')\n",
    "plt.title('Distribution of the Featur for Classes 0 and 1')\n",
    "plt.legend()\n",
    "plt.grid(True)\n",
    "\n",
    "plt.show()"
   ]
  },
  {
   "cell_type": "code",
   "execution_count": 68,
   "id": "c4376def-6a04-42a3-98ea-f325a983990d",
   "metadata": {},
   "outputs": [
    {
     "name": "stdout",
     "output_type": "stream",
     "text": [
      "2.059723578175018 13.133777099934202 15.968362912514667\n"
     ]
    }
   ],
   "source": [
    "#2c\n",
    "#we convert 'features' and 'classes' \n",
    "features=np.array(features)\n",
    "classes=np.array(classes)\n",
    "np.random.seed(42)  \n",
    "\n",
    "def stratified_split(features, classes, train_percentage=0.8):\n",
    "    # to obtain indice for each class\n",
    "    indices_C0 = np.where(classes == 0)[0]\n",
    "    indices_C1 = np.where(classes == 1)[0]\n",
    "    \n",
    "    # number of samples for the training set \n",
    "    n_train_C0 = int(len(indices_C0) * 0.8)\n",
    "    n_train_C1 = int(len(indices_C1) * 0.8)\n",
    "    \n",
    "    # shuffle indice randomly \n",
    "    np.random.shuffle(indices_C0)\n",
    "    np.random.shuffle(indices_C1)\n",
    "    \n",
    "    # we choose the indices for the training\n",
    "    train_indices_C0 = indices_C0[:n_train_C0]\n",
    "    train_indices_C1 = indices_C1[:n_train_C1]\n",
    "    \n",
    "    # we create the training set for c0 and for c1\n",
    "    X_train_C0 = features[train_indices_C0]\n",
    "    y_train_C0 = classes[train_indices_C0]\n",
    "    \n",
    "    X_train_C1 = features[train_indices_C1]\n",
    "    y_train_C1 = classes[train_indices_C1]\n",
    "\n",
    "    # we choose the test indices\n",
    "    test_indices_C0 = indices_C0[n_train_C0:]\n",
    "    test_indices_C1 = indices_C1[n_train_C1:]\n",
    "\n",
    "    # Now create the test set for C0 and C1\n",
    "    X_test_C0 = features[test_indices_C0]\n",
    "    y_test_C0 = classes[test_indices_C0]\n",
    "    \n",
    "    X_test_C1 = features[test_indices_C1]\n",
    "    y_test_C1 = classes[test_indices_C1]\n",
    "\n",
    "    return X_train_C0, y_train_C0, X_test_C0, y_test_C0, X_train_C1, y_train_C1, X_test_C1, y_test_C1\n",
    "\n",
    "# Now we separate the data set using the function that we have created above \n",
    "(X_train_C0, y_train_C0, X_test_C0, y_test_C0, X_train_C1, y_train_C1, X_test_C1, y_test_C1) = stratified_split(features, classes)\n",
    "\n",
    "\n",
    "#Let's estimate the parameters based on the training data\n",
    "beta = 0\n",
    "\n",
    "for i in range(len(X_train_C0)):\n",
    "    beta = beta + X_train_C0[i]\n",
    "beta = beta/(len(X_train_C0)*2) #alpha=2\n",
    "\n",
    "#Now let's estimate first mu and after sigma2 because we need mu\n",
    "mu = 0\n",
    "sigma2 = 0\n",
    "for i in range(len(X_train_C1)):\n",
    "    mu = mu + X_train_C1[i]\n",
    "mu = mu/len(X_train_C1)\n",
    "for i in range(len(X_train_C1)):\n",
    "    sigma2 = sigma2 + (X_train_C1[i]-mu)**2\n",
    "sigma2 = sigma2/len(X_train_C1)\n",
    "\n",
    "print(beta, mu, sigma2)\n",
    "\n"
   ]
  },
  {
   "cell_type": "code",
   "execution_count": 71,
   "id": "4771b628-928d-469c-befa-4c75f1719961",
   "metadata": {},
   "outputs": [
    {
     "name": "stdout",
     "output_type": "stream",
     "text": [
      "2.059723578175018 13.133777099934202 15.968362912514667 0.9041666666666667\n"
     ]
    }
   ],
   "source": [
    "#Now we want to implement the Baye's classifier to the test set\n",
    "# Combinar los conjuntos de prueba de ambas clases\n",
    "X_test = np.concatenate((X_test_C0, X_test_C1))\n",
    "y_test = np.concatenate((y_test_C0, y_test_C1))\n",
    "#we will save our predictions in this array\n",
    "pred = []\n",
    "#prior class probability\n",
    "PC0=len(X_train_C0)/(len(X_train_C0)+len(X_train_C1))\n",
    "PC1=len(X_train_C1)/(len(X_train_C0)+len(X_train_C1))\n",
    "\n",
    "#we apply Baye's classifier\n",
    "for i in range(len(X_test)):\n",
    "    PXC0=1/(beta**2)*X_test[i]*math.exp(-X_test[i]/beta)\n",
    "    PXC1=1/math.sqrt(sigma2*2*math.pi)*math.exp(-1/2*(X_test[i]-mu)**2/sigma2)\n",
    "    #decision rule\n",
    "    if PC0*PXC0 > PC1*PXC1:\n",
    "        pred.append(0)\n",
    "    else:\n",
    "        pred.append(1)\n",
    "\n",
    "#accuracy\n",
    "TP=0\n",
    "TN=0 \n",
    "FP=0 \n",
    "FN=0\n",
    "for i in range(len(X_test)):\n",
    "    if y_test[i]== 1 and pred[i]==1:\n",
    "        TP = TP + 1\n",
    "    if y_test[i]== 0 and pred[i]== 0:\n",
    "        TN = TN + 1\n",
    "    if y_test[i]== 0  and pred[i]== 1:\n",
    "        FP = FP + 1\n",
    "    if y_test[i]== 1 and pred[i]== 0:\n",
    "        FN = FN + 1\n",
    "\n",
    "accuracy = (TP+TN)/(FP+FN+TP+TN)\n",
    "print(beta, mu, sigma2, accuracy)"
   ]
  },
  {
   "cell_type": "code",
   "execution_count": 73,
   "id": "90190aed-c6bc-4573-a0f9-fd3cfbe8e924",
   "metadata": {},
   "outputs": [
    {
     "data": {
      "image/png": "[encoded data removed]",
      "text/plain": [
       "<Figure size 1000x600 with 1 Axes>"
      ]
     },
     "metadata": {},
     "output_type": "display_data"
    }
   ],
   "source": [
    "#2d\n",
    "#we want to plot the missclassified samples\n",
    "#we create a list for saving the missclassified samples \n",
    "missclassifiedClass=[]\n",
    "missclassifiedFeatures = []\n",
    "wellclassifiedClass = []\n",
    "wellclassifiedFeatures = []\n",
    "\n",
    "#we fill our list with the missclassified samples. Samples are not well classified if the predict class is different from the correct one\n",
    "for i in range(len(X_test)):\n",
    "    if y_test[i]== 0  and pred[i]== 1:\n",
    "        missclassifiedClass.append(y_test[i])\n",
    "        missclassifiedFeatures.append(X_test[i])\n",
    "    if y_test[i]== 1 and pred[i]== 0:\n",
    "        missclassifiedClass.append(y_test[i])\n",
    "        missclassifiedFeatures.append(X_test[i])\n",
    "    if y_test[i]== 0  and pred[i]== 0:\n",
    "        wellclassifiedClass.append(y_test[i])\n",
    "        wellclassifiedFeatures.append(X_test[i])\n",
    "    if y_test[i]== 1 and pred[i]== 1:\n",
    "        wellclassifiedClass.append(y_test[i])\n",
    "        wellclassifiedFeatures.append(X_test[i])\n",
    "\n",
    "plt.figure(figsize=(10, 6))\n",
    "\n",
    "# To draw in the histogram the samples from class 1 \n",
    "plt.hist(features_class_1, bins=50, color='blue', alpha=0.5, label='Class 1')\n",
    "\n",
    "# To draw in the histogram the samples from class 0\n",
    "plt.hist(features_class_0, bins=50, color='red', alpha=0.5, label='Class 0')\n",
    "\n",
    "# To draw in the histogram the samples that has not been well classified\n",
    "plt.hist(missclassifiedFeatures, bins=50, color='yellow', alpha=1, label='Missclassified Data')\n",
    "\n",
    "plt.xlabel('Feature')\n",
    "plt.ylabel('Frequency')\n",
    "plt.title('Distribution of Features for Classes 0 and 1')\n",
    "plt.legend()\n",
    "plt.grid(True)  \n",
    "\n",
    "\n",
    "plt.show()"
   ]
  },
  {
   "cell_type": "code",
   "execution_count": null,
   "id": "933f7dca-f79d-4082-ba88-034ed4e3f2d4",
   "metadata": {},
   "outputs": [],
   "source": []
  }
 ],
 "metadata": {
  "kernelspec": {
   "display_name": "Python 3 (ipykernel)",
   "language": "python",
   "name": "python3"
  },
  "language_info": {
   "codemirror_mode": {
    "name": "ipython",
    "version": 3
   },
   "file_extension": ".py",
   "mimetype": "text/x-python",
   "name": "python",
   "nbconvert_exporter": "python",
   "pygments_lexer": "ipython3",
   "version": "3.12.4"
  }
 },
 "nbformat": 4,
 "nbformat_minor": 5
}
